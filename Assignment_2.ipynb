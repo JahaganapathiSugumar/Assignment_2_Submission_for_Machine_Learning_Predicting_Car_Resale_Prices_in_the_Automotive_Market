{
 "cells": [
  {
   "cell_type": "code",
   "execution_count": 32,
   "id": "ede334a2-fe4a-4fd5-97b0-626037343b30",
   "metadata": {},
   "outputs": [],
   "source": [
    "import pandas as pd\n",
    "import numpy as np"
   ]
  },
  {
   "cell_type": "markdown",
   "id": "5921d4a9-3ec0-460e-9a20-e99b8ab23368",
   "metadata": {},
   "source": [
    "## THE GIVEN DATASET"
   ]
  },
  {
   "cell_type": "code",
   "execution_count": 13,
   "id": "54fd5fb0-d27b-414c-928a-ee7a56197d8a",
   "metadata": {},
   "outputs": [],
   "source": [
    "file_path = 'C:/Users/jahag/GEN_AI/car_resale_price_prediction_dataset.csv'\n",
    "df = pd.read_csv(file_path)"
   ]
  },
  {
   "cell_type": "markdown",
   "id": "b13d4ec7-10a6-4bbd-b8a4-64f06fcaafd3",
   "metadata": {},
   "source": [
    "# 1 . Data Exploration and Preprocessing\n"
   ]
  },
  {
   "cell_type": "markdown",
   "id": "59cb2856-6aa5-406a-b230-8f785315254a",
   "metadata": {},
   "source": [
    "#### 1.1  Load the dataset and perform initial exploration to understand the data.\n",
    "#### 1.2 Identify and handle any missing values appropriately.\n",
    "#### 1.3 Convert categorical variables into numerical ones using techniques such as One-Hot Encoding."
   ]
  },
  {
   "cell_type": "code",
   "execution_count": 24,
   "id": "4b28a810-0e3e-4f65-a470-c7f2f6f652fa",
   "metadata": {},
   "outputs": [
    {
     "name": "stdout",
     "output_type": "stream",
     "text": [
      "Dataset Information:\n",
      "\n",
      "<class 'pandas.core.frame.DataFrame'>\n",
      "RangeIndex: 5000 entries, 0 to 4999\n",
      "Data columns (total 13 columns):\n",
      " #   Column          Non-Null Count  Dtype  \n",
      "---  ------          --------------  -----  \n",
      " 0   CarID           5000 non-null   int64  \n",
      " 1   Make            5000 non-null   object \n",
      " 2   Model           5000 non-null   object \n",
      " 3   Year            5000 non-null   int64  \n",
      " 4   Mileage         5000 non-null   int64  \n",
      " 5   EngineSize      5000 non-null   float64\n",
      " 6   FuelType        5000 non-null   object \n",
      " 7   Transmission    5000 non-null   object \n",
      " 8   Color           5000 non-null   object \n",
      " 9   PreviousOwners  5000 non-null   int64  \n",
      " 10  CarCondition    5000 non-null   object \n",
      " 11  Location        5000 non-null   object \n",
      " 12  ResalePrice     5000 non-null   float64\n",
      "dtypes: float64(2), int64(4), object(7)\n",
      "memory usage: 507.9+ KB\n"
     ]
    }
   ],
   "source": [
    "print(\"Dataset Information:\\n\")\n",
    "df.info()  # Overview of the dataset"
   ]
  },
  {
   "cell_type": "code",
   "execution_count": 26,
   "id": "8d53d8f7-8374-496a-b952-d5e7daa5cc2f",
   "metadata": {},
   "outputs": [
    {
     "name": "stdout",
     "output_type": "stream",
     "text": [
      "\n",
      "Missing values in each column:\n",
      "\n",
      "CarID             0\n",
      "Make              0\n",
      "Model             0\n",
      "Year              0\n",
      "Mileage           0\n",
      "EngineSize        0\n",
      "FuelType          0\n",
      "Transmission      0\n",
      "Color             0\n",
      "PreviousOwners    0\n",
      "CarCondition      0\n",
      "Location          0\n",
      "ResalePrice       0\n",
      "dtype: int64\n"
     ]
    }
   ],
   "source": [
    "print(\"\\nMissing values in each column:\\n\")\n",
    "print(df.isnull().sum())"
   ]
  },
  {
   "cell_type": "code",
   "execution_count": 28,
   "id": "e2f01d81-0b88-47a7-9e63-094ad7004835",
   "metadata": {},
   "outputs": [
    {
     "name": "stdout",
     "output_type": "stream",
     "text": [
      "\n",
      "First few rows of the dataset:\n",
      "\n",
      "   CarID    Make     Model  Year  Mileage  EngineSize  FuelType Transmission  \\\n",
      "0      1   Honda   Corolla  2005    89337         4.7  Electric       Manual   \n",
      "1      2  Toyota   Corolla  2019    65516         1.2    Diesel    Automatic   \n",
      "2      3  Toyota  3 Series  2006    17910         3.2    Diesel       Manual   \n",
      "3      4  Toyota  3 Series  2005   147897         1.7    Petrol       Manual   \n",
      "4      5   Honda  3 Series  2020    73255         5.6    Hybrid    Automatic   \n",
      "\n",
      "   Color  PreviousOwners CarCondition  Location  ResalePrice  \n",
      "0    Red               3         Good  Suburban     13488.96  \n",
      "1   Blue               3    Excellent     Rural     14604.61  \n",
      "2    Red               1    Excellent  Suburban     13024.73  \n",
      "3    Red               3    Excellent     Rural     23486.67  \n",
      "4  White               1         Good     Urban     46885.47  \n"
     ]
    }
   ],
   "source": [
    "# Display the first few rows of the dataset\n",
    "print(\"\\nFirst few rows of the dataset:\\n\")\n",
    "print(df.head())"
   ]
  },
  {
   "cell_type": "code",
   "execution_count": 34,
   "id": "387ec0b4-463e-4a98-8db1-5341d0865c14",
   "metadata": {},
   "outputs": [],
   "source": [
    "# Identify numeric and categorical columns\n",
    "numeric_cols = df.select_dtypes(include=[np.number]).columns\n",
    "categorical_cols = df.select_dtypes(include=[object]).columns"
   ]
  },
  {
   "cell_type": "code",
   "execution_count": 36,
   "id": "624cc587-0851-45bd-892f-d92788ae8c43",
   "metadata": {},
   "outputs": [],
   "source": [
    "df[numeric_cols] = df[numeric_cols].fillna(df[numeric_cols].median())\n"
   ]
  },
  {
   "cell_type": "code",
   "execution_count": 38,
   "id": "7b962267-b522-427c-909c-ed61b3787a0d",
   "metadata": {},
   "outputs": [],
   "source": [
    "df[categorical_cols] = df[categorical_cols].fillna(df[categorical_cols].mode().iloc[0])"
   ]
  },
  {
   "cell_type": "code",
   "execution_count": 40,
   "id": "ae5cfa20-3528-4195-b81a-0493fdb6a765",
   "metadata": {},
   "outputs": [
    {
     "name": "stdout",
     "output_type": "stream",
     "text": [
      "\n",
      "Missing values after imputation:\n",
      "\n",
      "CarID             0\n",
      "Make              0\n",
      "Model             0\n",
      "Year              0\n",
      "Mileage           0\n",
      "EngineSize        0\n",
      "FuelType          0\n",
      "Transmission      0\n",
      "Color             0\n",
      "PreviousOwners    0\n",
      "CarCondition      0\n",
      "Location          0\n",
      "ResalePrice       0\n",
      "dtype: int64\n"
     ]
    }
   ],
   "source": [
    "print(\"\\nMissing values after imputation:\\n\")\n",
    "print(df.isnull().sum())"
   ]
  },
  {
   "cell_type": "code",
   "execution_count": 42,
   "id": "13083737-0bd4-4e7a-89eb-89781b431619",
   "metadata": {},
   "outputs": [],
   "source": [
    "df_encoded = pd.get_dummies(df, columns=categorical_cols, drop_first=True)"
   ]
  },
  {
   "cell_type": "code",
   "execution_count": 46,
   "id": "8e2dfbb5-83c9-4d4b-aa61-eb2f59aa62c9",
   "metadata": {},
   "outputs": [
    {
     "name": "stdout",
     "output_type": "stream",
     "text": [
      "\n",
      "Dataset after One-Hot Encoding:\n",
      "\n",
      "   CarID  Year  Mileage  EngineSize  PreviousOwners  ResalePrice  \\\n",
      "0      1  2005    89337         4.7               3     13488.96   \n",
      "1      2  2019    65516         1.2               3     14604.61   \n",
      "2      3  2006    17910         3.2               1     13024.73   \n",
      "3      4  2005   147897         1.7               3     23486.67   \n",
      "4      5  2020    73255         5.6               1     46885.47   \n",
      "\n",
      "   Make_Chevrolet  Make_Ford  Make_Honda  Make_Toyota  ...  \\\n",
      "0           False      False        True        False  ...   \n",
      "1           False      False       False         True  ...   \n",
      "2           False      False       False         True  ...   \n",
      "3           False      False       False         True  ...   \n",
      "4           False      False        True        False  ...   \n",
      "\n",
      "   Transmission_Manual  Color_Blue  Color_Red  Color_Silver  Color_White  \\\n",
      "0                 True       False       True         False        False   \n",
      "1                False        True      False         False        False   \n",
      "2                 True       False       True         False        False   \n",
      "3                 True       False       True         False        False   \n",
      "4                False       False      False         False         True   \n",
      "\n",
      "   CarCondition_Fair  CarCondition_Good  CarCondition_Poor  Location_Suburban  \\\n",
      "0              False               True              False               True   \n",
      "1              False              False              False              False   \n",
      "2              False              False              False               True   \n",
      "3              False              False              False              False   \n",
      "4              False               True              False              False   \n",
      "\n",
      "   Location_Urban  \n",
      "0           False  \n",
      "1           False  \n",
      "2           False  \n",
      "3           False  \n",
      "4            True  \n",
      "\n",
      "[5 rows x 27 columns]\n"
     ]
    }
   ],
   "source": [
    "# Display the first few rows of the encoded dataset\n",
    "print(\"\\nDataset after One-Hot Encoding:\\n\")\n",
    "print(df_encoded.head())"
   ]
  },
  {
   "cell_type": "code",
   "execution_count": 48,
   "id": "f9fee3b7-6504-4f74-86c2-da90e9b47f4d",
   "metadata": {},
   "outputs": [
    {
     "name": "stdout",
     "output_type": "stream",
     "text": [
      "\n",
      "Shape of the dataset after preprocessing: (5000, 27)\n"
     ]
    }
   ],
   "source": [
    "# Check the shape of the dataset after preprocessing\n",
    "print(\"\\nShape of the dataset after preprocessing:\", df_encoded.shape)"
   ]
  },
  {
   "cell_type": "markdown",
   "id": "e1d1fe34-e05a-4860-a4d8-d3c81e570308",
   "metadata": {},
   "source": [
    "# 2 . Feature Engineering"
   ]
  },
  {
   "cell_type": "markdown",
   "id": "80b46c7a-f68c-48a7-9934-26a2375181ff",
   "metadata": {},
   "source": [
    "#### 2.1 Perform feature scaling (e.g., Standardization or Normalization) on continuous variables.\n",
    "#### 2.2 Create new features if relevant, such as age of the car at the time of sale.\n",
    "#### 2.3Use dimensionality reduction techniques (e.g., PCA) to reduce the feature space if necessary."
   ]
  },
  {
   "cell_type": "code",
   "execution_count": 62,
   "id": "976b931d-8904-437d-b152-32eced5a9409",
   "metadata": {},
   "outputs": [],
   "source": [
    "from sklearn.preprocessing import StandardScaler\n",
    "from sklearn.decomposition import PCA"
   ]
  },
  {
   "cell_type": "code",
   "execution_count": 64,
   "id": "eaaf5bc6-a064-485d-b865-bef6d573c64f",
   "metadata": {},
   "outputs": [],
   "source": [
    "# 1. Perform Feature Scaling (Standardization) on Continuous Variables\n",
    "\n",
    "# Identifying the continuous numeric columns to scale\n",
    "continuous_columns = ['Mileage', 'EngineSize']  # Add more relevant continuous columns if necessary"
   ]
  },
  {
   "cell_type": "code",
   "execution_count": 66,
   "id": "ee0bb9d1-66f0-4f50-b36c-7d32da72c81c",
   "metadata": {},
   "outputs": [],
   "source": [
    "scaler = StandardScaler()\n",
    "df_encoded[continuous_columns] = scaler.fit_transform(df_encoded[continuous_columns])"
   ]
  },
  {
   "cell_type": "code",
   "execution_count": 68,
   "id": "6fbbefb5-2b97-45d6-8bff-26778a34d625",
   "metadata": {},
   "outputs": [
    {
     "name": "stdout",
     "output_type": "stream",
     "text": [
      "\n",
      "Dataset after scaling continuous variables:\n",
      "\n",
      "   CarID  Year   Mileage  EngineSize  PreviousOwners  ResalePrice  \\\n",
      "0      1  2005 -0.228128    0.839713               3     13488.96   \n",
      "1      2  2019 -0.648665   -1.579133               3     14604.61   \n",
      "2      3  2006 -1.489103   -0.196935               1     13024.73   \n",
      "3      4  2005  0.805693   -1.233584               3     23486.67   \n",
      "4      5  2020 -0.512040    1.461701               1     46885.47   \n",
      "\n",
      "   Make_Chevrolet  Make_Ford  Make_Honda  Make_Toyota  ...  \\\n",
      "0           False      False        True        False  ...   \n",
      "1           False      False       False         True  ...   \n",
      "2           False      False       False         True  ...   \n",
      "3           False      False       False         True  ...   \n",
      "4           False      False        True        False  ...   \n",
      "\n",
      "   Transmission_Manual  Color_Blue  Color_Red  Color_Silver  Color_White  \\\n",
      "0                 True       False       True         False        False   \n",
      "1                False        True      False         False        False   \n",
      "2                 True       False       True         False        False   \n",
      "3                 True       False       True         False        False   \n",
      "4                False       False      False         False         True   \n",
      "\n",
      "   CarCondition_Fair  CarCondition_Good  CarCondition_Poor  Location_Suburban  \\\n",
      "0              False               True              False               True   \n",
      "1              False              False              False              False   \n",
      "2              False              False              False               True   \n",
      "3              False              False              False              False   \n",
      "4              False               True              False              False   \n",
      "\n",
      "   Location_Urban  \n",
      "0           False  \n",
      "1           False  \n",
      "2           False  \n",
      "3           False  \n",
      "4            True  \n",
      "\n",
      "[5 rows x 27 columns]\n"
     ]
    }
   ],
   "source": [
    "print(\"\\nDataset after scaling continuous variables:\\n\")\n",
    "print(df_encoded.head())"
   ]
  },
  {
   "cell_type": "code",
   "execution_count": 70,
   "id": "8c4d4b0b-6fec-44f7-8961-b18a941463c8",
   "metadata": {},
   "outputs": [],
   "source": [
    "# 2. Create New Features (e.g., Age of the Car)\n",
    "\n",
    "# Assuming we have the 'Year' of manufacture in the original dataset and the current year is 2024\n",
    "df_encoded['CarAge'] = 2024 - df['Year']  # If 'Year' was removed earlier, ensure to adjust accordingly"
   ]
  },
  {
   "cell_type": "code",
   "execution_count": 72,
   "id": "a921e59b-c998-40a7-9108-342d78d0a611",
   "metadata": {},
   "outputs": [],
   "source": [
    "# You can drop the original 'Year' column if it's no longer needed\n",
    "df_encoded.drop(columns=['Year'], inplace=True)"
   ]
  },
  {
   "cell_type": "code",
   "execution_count": 74,
   "id": "da970964-39a2-4ec0-b226-e392b61a8fa4",
   "metadata": {},
   "outputs": [
    {
     "name": "stdout",
     "output_type": "stream",
     "text": [
      "\n",
      "Dataset after adding 'CarAge' feature:\n",
      "\n",
      "   CarAge\n",
      "0      19\n",
      "1       5\n",
      "2      18\n",
      "3      19\n",
      "4       4\n"
     ]
    }
   ],
   "source": [
    "print(\"\\nDataset after adding 'CarAge' feature:\\n\")\n",
    "print(df_encoded[['CarAge']].head())  # Display the new 'CarAge' column"
   ]
  },
  {
   "cell_type": "code",
   "execution_count": 76,
   "id": "08f44117-8f86-4056-be23-be817c199e35",
   "metadata": {},
   "outputs": [],
   "source": [
    "# 3. Dimensionality Reduction using PCA (if necessary)\n",
    "\n",
    "# Assuming we want to reduce the feature space to 95% explained variance\n",
    "pca = PCA(n_components=0.95)  # Keep 95% of the variance\n",
    "df_pca = pca.fit_transform(df_encoded)\n"
   ]
  },
  {
   "cell_type": "code",
   "execution_count": 78,
   "id": "2767d9ce-d71e-407f-a767-849b4cf5087b",
   "metadata": {},
   "outputs": [
    {
     "name": "stdout",
     "output_type": "stream",
     "text": [
      "\n",
      "Shape of the dataset after applying PCA:\n",
      " (5000, 1)\n"
     ]
    }
   ],
   "source": [
    "# Check the shape after applying PCA\n",
    "print(\"\\nShape of the dataset after applying PCA:\\n\", df_pca.shape)"
   ]
  },
  {
   "cell_type": "markdown",
   "id": "deabb339-2fc6-4f35-973b-19273e47b4a8",
   "metadata": {},
   "source": [
    "# 3 . Model Building"
   ]
  },
  {
   "cell_type": "markdown",
   "id": "d2bf8f0c-2697-48c7-8905-052d6266ec69",
   "metadata": {},
   "source": [
    "#### 3.1 Split the dataset into training and testing sets (e.g., 80-20 split).\n",
    "#### 3.2 Train different regression models (e.g., Linear Regression, Decision Trees, Random Forest, Gradient Boosting).\n",
    "#### 3.3 Perform hyperparameter tuning using techniques like Grid Search or Random Search to optimize model performance."
   ]
  },
  {
   "cell_type": "markdown",
   "id": "afbdde42-3808-4098-a249-3ec9cac4f051",
   "metadata": {},
   "source": [
    "### 1 . Data Splitting"
   ]
  },
  {
   "cell_type": "code",
   "execution_count": 85,
   "id": "4b8dc946-f0b8-4b36-9be1-87bb92aaa20a",
   "metadata": {},
   "outputs": [],
   "source": [
    "# Import necessary libraries\n",
    "from sklearn.model_selection import train_test_split\n",
    "\n",
    "# Assuming 'ResalePrice' is the target variable\n",
    "X = df_encoded.drop(columns=['ResalePrice'])  # Features\n",
    "y = df_encoded['ResalePrice']  # Target\n",
    "\n",
    "# Split the data into training and testing sets (80-20 split)\n",
    "X_train, X_test, y_train, y_test = train_test_split(X, y, test_size=0.2, random_state=42)\n",
    "\n",
    "# Function for evaluation\n",
    "from sklearn.metrics import mean_absolute_error, mean_squared_error, r2_score\n",
    "def evaluate_model(y_true, y_pred, model_name):\n",
    "    print(f\"{model_name} Evaluation:\")\n",
    "    print(\"Mean Absolute Error (MAE):\", mean_absolute_error(y_true, y_pred))\n",
    "    print(\"Mean Squared Error (MSE):\", mean_squared_error(y_true, y_pred))\n",
    "    print(\"R-squared (R2):\", r2_score(y_true, y_pred))\n",
    "    print(\"-\" * 50)\n"
   ]
  },
  {
   "cell_type": "markdown",
   "id": "6db6529e-ba74-4bf3-90f5-7a88bcf09715",
   "metadata": {},
   "source": [
    "### 2. Linear Regression"
   ]
  },
  {
   "cell_type": "code",
   "execution_count": 90,
   "id": "7c427976-e458-4370-a091-e165fbbddc66",
   "metadata": {},
   "outputs": [
    {
     "name": "stdout",
     "output_type": "stream",
     "text": [
      "Linear Regression Evaluation:\n",
      "Mean Absolute Error (MAE): 11514.98064936873\n",
      "Mean Squared Error (MSE): 175735312.0569602\n",
      "R-squared (R2): -0.007662613295882137\n",
      "--------------------------------------------------\n"
     ]
    }
   ],
   "source": [
    "# Import Linear Regression\n",
    "from sklearn.linear_model import LinearRegression\n",
    "\n",
    "# Initialize and train the Linear Regression model\n",
    "lr_model = LinearRegression()\n",
    "lr_model.fit(X_train, y_train)\n",
    "\n",
    "# Make predictions on the test set\n",
    "y_pred_lr = lr_model.predict(X_test)\n",
    "\n",
    "# Evaluate the Linear Regression model\n",
    "evaluate_model(y_test, y_pred_lr, \"Linear Regression\")\n"
   ]
  },
  {
   "cell_type": "markdown",
   "id": "4cb2d50a-1f76-47f7-bd09-8c25f4b4fa6b",
   "metadata": {},
   "source": [
    "### 3. Decision Tree Regressor"
   ]
  },
  {
   "cell_type": "code",
   "execution_count": 93,
   "id": "3b48f845-0df1-4fa5-afbc-7b090c6ba5a7",
   "metadata": {},
   "outputs": [
    {
     "name": "stdout",
     "output_type": "stream",
     "text": [
      "Decision Tree Evaluation:\n",
      "Mean Absolute Error (MAE): 14712.39833\n",
      "Mean Squared Error (MSE): 328046064.0352203\n",
      "R-squared (R2): -0.8810092877634961\n",
      "--------------------------------------------------\n"
     ]
    }
   ],
   "source": [
    "# Import Decision Tree Regressor\n",
    "from sklearn.tree import DecisionTreeRegressor\n",
    "\n",
    "# Initialize and train the Decision Tree model\n",
    "dt_model = DecisionTreeRegressor(random_state=42)\n",
    "dt_model.fit(X_train, y_train)\n",
    "\n",
    "# Make predictions on the test set\n",
    "y_pred_dt = dt_model.predict(X_test)\n",
    "\n",
    "# Evaluate the Decision Tree model\n",
    "evaluate_model(y_test, y_pred_dt, \"Decision Tree\")\n"
   ]
  },
  {
   "cell_type": "markdown",
   "id": "19de4ac1-4303-4240-b02e-51a0460b6c86",
   "metadata": {},
   "source": [
    "### 4. Random Forest Regressor"
   ]
  },
  {
   "cell_type": "code",
   "execution_count": 96,
   "id": "70afa39d-8f0e-4097-a3ca-15e47e5a1572",
   "metadata": {},
   "outputs": [
    {
     "name": "stdout",
     "output_type": "stream",
     "text": [
      "Random Forest Evaluation:\n",
      "Mean Absolute Error (MAE): 11685.1331779\n",
      "Mean Squared Error (MSE): 182072748.30434412\n",
      "R-squared (R2): -0.044001340532244804\n",
      "--------------------------------------------------\n"
     ]
    }
   ],
   "source": [
    "# Import Random Forest Regressor\n",
    "from sklearn.ensemble import RandomForestRegressor\n",
    "\n",
    "# Initialize and train the Random Forest model\n",
    "rf_model = RandomForestRegressor(random_state=42)\n",
    "rf_model.fit(X_train, y_train)\n",
    "\n",
    "# Make predictions on the test set\n",
    "y_pred_rf = rf_model.predict(X_test)\n",
    "\n",
    "# Evaluate the Random Forest model\n",
    "evaluate_model(y_test, y_pred_rf, \"Random Forest\")\n"
   ]
  },
  {
   "cell_type": "markdown",
   "id": "8442f2a0-33de-40a0-b242-2e623c17e03c",
   "metadata": {},
   "source": [
    "### 5. Gradient Boosting Regressor:"
   ]
  },
  {
   "cell_type": "code",
   "execution_count": 99,
   "id": "dd033165-745c-4333-91e2-748f7fcba70b",
   "metadata": {},
   "outputs": [
    {
     "name": "stdout",
     "output_type": "stream",
     "text": [
      "Gradient Boosting Evaluation:\n",
      "Mean Absolute Error (MAE): 11540.12294451496\n",
      "Mean Squared Error (MSE): 177337724.67132115\n",
      "R-squared (R2): -0.016850813798476194\n",
      "--------------------------------------------------\n"
     ]
    }
   ],
   "source": [
    "# Import Gradient Boosting Regressor\n",
    "from sklearn.ensemble import GradientBoostingRegressor\n",
    "\n",
    "# Initialize and train the Gradient Boosting model\n",
    "gb_model = GradientBoostingRegressor(random_state=42)\n",
    "gb_model.fit(X_train, y_train)\n",
    "\n",
    "# Make predictions on the test set\n",
    "y_pred_gb = gb_model.predict(X_test)\n",
    "\n",
    "# Evaluate the Gradient Boosting model\n",
    "evaluate_model(y_test, y_pred_gb, \"Gradient Boosting\")\n"
   ]
  },
  {
   "cell_type": "markdown",
   "id": "aa7e85f7-3274-4418-ae00-4f2c42181349",
   "metadata": {},
   "source": [
    "### 6. Hyperparameter Tuning for Random Forest (Grid Search):"
   ]
  },
  {
   "cell_type": "code",
   "execution_count": 102,
   "id": "27fc8d19-9fc7-42ff-83f3-c861c4aca50a",
   "metadata": {},
   "outputs": [
    {
     "name": "stdout",
     "output_type": "stream",
     "text": [
      "Fitting 3 folds for each of 162 candidates, totalling 486 fits\n",
      "Tuned Random Forest Evaluation:\n",
      "Mean Absolute Error (MAE): 11544.044910100227\n",
      "Mean Squared Error (MSE): 176619294.2968463\n",
      "R-squared (R2): -0.012731349018513027\n",
      "--------------------------------------------------\n"
     ]
    }
   ],
   "source": [
    "# Import GridSearchCV\n",
    "from sklearn.model_selection import GridSearchCV\n",
    "\n",
    "# Parameter grid for Random Forest\n",
    "param_grid = {\n",
    "    'n_estimators': [100, 200, 300],\n",
    "    'max_depth': [10, 20, 30],\n",
    "    'min_samples_split': [2, 5, 10],\n",
    "    'min_samples_leaf': [1, 2, 4],\n",
    "    'bootstrap': [True, False]\n",
    "}\n",
    "\n",
    "# Set up the GridSearchCV for Random Forest\n",
    "grid_search = GridSearchCV(estimator=rf_model, param_grid=param_grid, \n",
    "                           cv=3, n_jobs=-1, verbose=2)\n",
    "\n",
    "# Perform the grid search\n",
    "grid_search.fit(X_train, y_train)\n",
    "\n",
    "# Get the best parameters from the grid search\n",
    "best_rf = grid_search.best_estimator_\n",
    "\n",
    "# Make predictions with the best Random Forest model\n",
    "y_pred_best_rf = best_rf.predict(X_test)\n",
    "\n",
    "# Evaluate the tuned Random Forest model\n",
    "evaluate_model(y_test, y_pred_best_rf, \"Tuned Random Forest\")\n"
   ]
  },
  {
   "cell_type": "markdown",
   "id": "ae005ac0-ec3f-4a89-86e6-933d84313f39",
   "metadata": {},
   "source": [
    "# 4 . Model Evaluation"
   ]
  },
  {
   "cell_type": "markdown",
   "id": "f3705396-c56c-4780-ba48-005d71d6d303",
   "metadata": {},
   "source": [
    "#### 4.1 Evaluate your models using appropriate metrics such as Mean Absolute Error (MAE), Mean Squared Error (MSE), and R-squared.\n",
    "#### 4.2 Compare the performance of different models and select the best one.\n",
    "#### 4.3 Analyze feature importance to understand the most significant factors contributing to car resale prices."
   ]
  },
  {
   "cell_type": "code",
   "execution_count": 116,
   "id": "2bba567a-043e-4c1d-af27-d4e04dffea33",
   "metadata": {},
   "outputs": [],
   "source": [
    "# Initialize the dictionary to store model results\n",
    "model_results = {}\n"
   ]
  },
  {
   "cell_type": "code",
   "execution_count": 118,
   "id": "3138ad33-a73b-45c0-b9a5-c4508347662f",
   "metadata": {},
   "outputs": [
    {
     "name": "stdout",
     "output_type": "stream",
     "text": [
      "Linear Regression Evaluation:\n",
      "Mean Absolute Error (MAE): 11514.98064936873\n",
      "Mean Squared Error (MSE): 175735312.0569602\n",
      "R-squared (R2): -0.007662613295882137\n",
      "--------------------------------------------------\n"
     ]
    }
   ],
   "source": [
    "# Evaluate Linear Regression\n",
    "evaluate_model(y_test, y_pred_lr, \"Linear Regression\")\n",
    "\n",
    "# Store results\n",
    "model_results['Linear Regression'] = {\n",
    "    'MAE': mean_absolute_error(y_test, y_pred_lr),\n",
    "    'MSE': mean_squared_error(y_test, y_pred_lr),\n",
    "    'R2': r2_score(y_test, y_pred_lr)\n",
    "}"
   ]
  },
  {
   "cell_type": "code",
   "execution_count": 120,
   "id": "b98d62dd-622c-445a-8d18-6b5a93b1f8a4",
   "metadata": {},
   "outputs": [
    {
     "name": "stdout",
     "output_type": "stream",
     "text": [
      "Decision Tree Evaluation:\n",
      "Mean Absolute Error (MAE): 14712.39833\n",
      "Mean Squared Error (MSE): 328046064.0352203\n",
      "R-squared (R2): -0.8810092877634961\n",
      "--------------------------------------------------\n"
     ]
    }
   ],
   "source": [
    "# Evaluate Decision Tree\n",
    "evaluate_model(y_test, y_pred_dt, \"Decision Tree\")\n",
    "\n",
    "# Store results\n",
    "model_results['Decision Tree'] = {\n",
    "    'MAE': mean_absolute_error(y_test, y_pred_dt),\n",
    "    'MSE': mean_squared_error(y_test, y_pred_dt),\n",
    "    'R2': r2_score(y_test, y_pred_dt)\n",
    "}\n"
   ]
  },
  {
   "cell_type": "code",
   "execution_count": 122,
   "id": "6bd4d0f9-8fe3-428a-b7f6-44acdfd658de",
   "metadata": {},
   "outputs": [
    {
     "name": "stdout",
     "output_type": "stream",
     "text": [
      "Random Forest Evaluation:\n",
      "Mean Absolute Error (MAE): 11685.1331779\n",
      "Mean Squared Error (MSE): 182072748.30434412\n",
      "R-squared (R2): -0.044001340532244804\n",
      "--------------------------------------------------\n"
     ]
    }
   ],
   "source": [
    "# Evaluate Random Forest\n",
    "evaluate_model(y_test, y_pred_rf, \"Random Forest\")\n",
    "\n",
    "# Store results\n",
    "model_results['Random Forest'] = {\n",
    "    'MAE': mean_absolute_error(y_test, y_pred_rf),\n",
    "    'MSE': mean_squared_error(y_test, y_pred_rf),\n",
    "    'R2': r2_score(y_test, y_pred_rf)\n",
    "}\n"
   ]
  },
  {
   "cell_type": "code",
   "execution_count": 124,
   "id": "ebddcfe9-9bfe-48fa-9a75-61335eb4a6cb",
   "metadata": {},
   "outputs": [
    {
     "name": "stdout",
     "output_type": "stream",
     "text": [
      "Gradient Boosting Evaluation:\n",
      "Mean Absolute Error (MAE): 11540.12294451496\n",
      "Mean Squared Error (MSE): 177337724.67132115\n",
      "R-squared (R2): -0.016850813798476194\n",
      "--------------------------------------------------\n"
     ]
    }
   ],
   "source": [
    "# Evaluate Gradient Boosting\n",
    "evaluate_model(y_test, y_pred_gb, \"Gradient Boosting\")\n",
    "\n",
    "# Store results\n",
    "model_results['Gradient Boosting'] = {\n",
    "    'MAE': mean_absolute_error(y_test, y_pred_gb),\n",
    "    'MSE': mean_squared_error(y_test, y_pred_gb),\n",
    "    'R2': r2_score(y_test, y_pred_gb)\n",
    "}\n"
   ]
  },
  {
   "cell_type": "code",
   "execution_count": 126,
   "id": "7496a181-37ae-4277-85a0-f8030ced6f9e",
   "metadata": {},
   "outputs": [
    {
     "name": "stdout",
     "output_type": "stream",
     "text": [
      "Tuned Random Forest Evaluation:\n",
      "Mean Absolute Error (MAE): 11544.044910100227\n",
      "Mean Squared Error (MSE): 176619294.2968463\n",
      "R-squared (R2): -0.012731349018513027\n",
      "--------------------------------------------------\n"
     ]
    }
   ],
   "source": [
    "# Evaluate Tuned Random Forest\n",
    "evaluate_model(y_test, y_pred_best_rf, \"Tuned Random Forest\")\n",
    "\n",
    "# Store results\n",
    "model_results['Tuned Random Forest'] = {\n",
    "    'MAE': mean_absolute_error(y_test, y_pred_best_rf),\n",
    "    'MSE': mean_squared_error(y_test, y_pred_best_rf),\n",
    "    'R2': r2_score(y_test, y_pred_best_rf)\n",
    "}\n"
   ]
  },
  {
   "cell_type": "code",
   "execution_count": 128,
   "id": "59243532-8f3b-4e45-88a9-03df6656c1bb",
   "metadata": {},
   "outputs": [
    {
     "name": "stdout",
     "output_type": "stream",
     "text": [
      "\n",
      "Model Performance Comparison:\n",
      "\n",
      "Linear Regression: MAE = 11514.98064936873, MSE = 175735312.0569602, R2 = -0.007662613295882137\n",
      "Decision Tree: MAE = 14712.39833, MSE = 328046064.0352203, R2 = -0.8810092877634961\n",
      "Random Forest: MAE = 11685.1331779, MSE = 182072748.30434412, R2 = -0.044001340532244804\n",
      "Gradient Boosting: MAE = 11540.12294451496, MSE = 177337724.67132115, R2 = -0.016850813798476194\n",
      "Tuned Random Forest: MAE = 11544.044910100227, MSE = 176619294.2968463, R2 = -0.012731349018513027\n"
     ]
    }
   ],
   "source": [
    "# Display the comparison of all models\n",
    "print(\"\\nModel Performance Comparison:\\n\")\n",
    "for model, metrics in model_results.items():\n",
    "    print(f\"{model}: MAE = {metrics['MAE']}, MSE = {metrics['MSE']}, R2 = {metrics['R2']}\")\n"
   ]
  },
  {
   "cell_type": "code",
   "execution_count": 130,
   "id": "c92e2482-849f-404d-b838-a3cb8ec913f6",
   "metadata": {},
   "outputs": [
    {
     "data": {
      "image/png": "[encoded data removed]",
      "text/plain": [
       "<Figure size 1000x600 with 1 Axes>"
      ]
     },
     "metadata": {},
     "output_type": "display_data"
    }
   ],
   "source": [
    "# Feature importance for Random Forest\n",
    "import matplotlib.pyplot as plt\n",
    "import numpy as np\n",
    "\n",
    "# Get feature importance from the best Random Forest model\n",
    "importances = best_rf.feature_importances_\n",
    "\n",
    "# Sort feature importance in descending order\n",
    "indices = np.argsort(importances)[::-1]\n",
    "\n",
    "# Plot the top important features\n",
    "plt.figure(figsize=(10, 6))\n",
    "plt.title(\"Feature Importances (Random Forest)\")\n",
    "plt.bar(range(X_train.shape[1]), importances[indices], align=\"center\")\n",
    "plt.xticks(range(X_train.shape[1]), X_train.columns[indices], rotation=90)\n",
    "plt.tight_layout()\n",
    "plt.show()\n"
   ]
  },
  {
   "cell_type": "markdown",
   "id": "018ecc69-029d-4be3-9af9-9ad8cb0feb8b",
   "metadata": {},
   "source": [
    "# 5. Insights and Recommendations"
   ]
  },
  {
   "cell_type": "markdown",
   "id": "581a10d4-9b5f-49a5-a426-2d4353b06a9d",
   "metadata": {},
   "source": [
    "## Based on the Random Forest model's feature importance and the evaluation of other models, we can extract the following insights regarding the factors that influence car resale prices :\n",
    "\n",
    "## Car Age:\n",
    "    Car Age is likely one of the most significant factors affecting resale prices. Generally, the older a car is, the lower its resale price. This trend is expected due to depreciation over time.\n",
    "    Cars that are newer tend to retain a higher percentage of their original value, as they require fewer repairs and have updated features.\n",
    "## Mileage:\n",
    "\n",
    "    Mileage is another critical factor in determining resale price. Higher mileage cars tend to have more wear and tear, which can lead to a lower resale price. Buyers associate higher mileage with increased maintenance costs.\n",
    "    Lower mileage cars are typically seen as having more remaining life, leading to a higher resale price.\n",
    "\n",
    "## Engine Size:\n",
    "\n",
    "    Larger Engine Size might be associated with higher resale prices, particularly in markets where performance or towing capacity is a priority. However, in some markets, smaller, more fuel-efficient engines may command a premium due to rising fuel costs.\n",
    "\n",
    "## Car Make and Model:\n",
    "\n",
    "    Make and Model play a significant role in resale prices. Luxury brands (like BMW, Mercedes) often have a higher resale price compared to more common brands (like Toyota or Ford), though this can depend on the market. Certain models within each make may also have higher resale values based on popularity, performance, or reliability.\n",
    "    For example, cars like the Toyota Corolla or Honda Civic tend to have strong resale values due to their reputation for reliability and affordability.\n",
    "\n",
    "## Fuel Type:\n",
    "\n",
    "    The type of fuel a car uses is also an important factor. With the increasing focus on sustainability and lower emissions, electric and hybrid cars may have higher resale prices than their petrol and diesel counterparts.\n",
    "    As fuel efficiency becomes more important, diesel and petrol cars may see a decline in resale value compared to electric or hybrid cars.\n",
    "\n",
    "## Car Condition:\n",
    "\n",
    "    The Condition of the car (e.g., Excellent, Good, Poor) significantly impacts resale value. Cars in Excellent condition tend to fetch a premium, while cars in Poor condition often sell for much lower prices.\n",
    "    Actionable Strategies for Car Dealerships:\n",
    "    Based on these insights, car dealerships can take the following steps to optimize their pricing strategies and enhance profitability:\n",
    "\n",
    "## Target Low Mileage, Newer Cars:\n",
    "\n",
    "    Dealerships should prioritize acquiring cars with low mileage and newer models, as these tend to retain value longer and can be sold at higher prices.\n",
    "    This should be a key focus for marketing efforts, as customers are more willing to pay a premium for cars with lower wear and tear.\n",
    "\n",
    "## Conclusion:\n",
    "    Dealerships can optimize their strategies by focusing on cars that retain value well, such as low mileage, newer models, and electric/hybrid vehicles. Understanding the most influential features like car age, mileage, and engine size allows for more informed pricing decisions, leading to higher profitability and customer satisfaction."
   ]
  },
  {
   "cell_type": "code",
   "execution_count": null,
   "id": "a418ac1c-a8a4-476f-a618-eb1a9385918e",
   "metadata": {},
   "outputs": [],
   "source": []
  }
 ],
 "metadata": {
  "kernelspec": {
   "display_name": "Python 3 (ipykernel)",
   "language": "python",
   "name": "python3"
  },
  "language_info": {
   "codemirror_mode": {
    "name": "ipython",
    "version": 3
   },
   "file_extension": ".py",
   "mimetype": "text/x-python",
   "name": "python",
   "nbconvert_exporter": "python",
   "pygments_lexer": "ipython3",
   "version": "3.12.4"
  }
 },
 "nbformat": 4,
 "nbformat_minor": 5
}
